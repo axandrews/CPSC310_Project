{
 "cells": [
  {
   "cell_type": "markdown",
   "metadata": {},
   "source": [
    "#### Alexa Andrews  \n",
    "#### Jeffrey Mulderink  \n",
    "#### Group name: aa_jm_knn   \n",
    "#### Project title: Improved kNN classifier  \n",
    "\n",
    "Our data set was looking to predict whether a person would default on their credit card payment based"
   ]
  },
  {
   "cell_type": "code",
   "execution_count": 2,
   "metadata": {},
   "outputs": [],
   "source": [
    "import utils\n",
    "import numpy as np\n",
    "import math\n",
    "import copy\n",
    "import random\n",
    "\n",
    "header, table = utils.open_csv_with_header(\"default_of_credit_card_clients.csv\")\n",
    "\n",
    "np.random.shuffle(table)\n",
    "table = table[:250]"
   ]
  },
  {
   "cell_type": "code",
   "execution_count": 7,
   "metadata": {},
   "outputs": [],
   "source": [
    "def get_random_attribute_subset(table, header, num_values):\n",
    "    '''\n",
    "        Returns a copy table with a random columns removed\n",
    "    '''\n",
    "    smaller_table = copy.deepcopy(table)\n",
    "    num_attributes = len(smaller_table[0])\n",
    "    indices_to_remove = random.sample(range(0, num_attributes-1), num_attributes-num_values) \n",
    "    indices_to_remove.sort(reverse=True)\n",
    "    for c in indices_to_remove:\n",
    "        for r, _ in enumerate(smaller_table):\n",
    "            del smaller_table[r][c] \n",
    "        \n",
    "    attributes_kept = [header[i] for i in range(num_attributes) if i not in indices_to_remove]\n",
    "        \n",
    "    return smaller_table, attributes_kept"
   ]
  },
  {
   "cell_type": "code",
   "execution_count": 5,
   "metadata": {},
   "outputs": [
    {
     "name": "stdout",
     "output_type": "stream",
     "text": [
      "testing at k=27\n",
      "testing at k=33\n",
      "testing at k=39\n",
      "testing at k=45\n",
      "testing at k=51\n",
      "testing at k=57\n",
      "testing at k=63\n",
      "testing at k=69\n",
      "testing at k=75\n",
      "testing at k=81\n",
      "testing at k=87\n",
      "Accuracies for variable k\n",
      " [(0.728, 27), (0.724, 33), (0.724, 39), (0.796, 45), (0.808, 51), (0.796, 57), (0.796, 63), (0.796, 69), (0.796, 75), (0.792, 81), (0.792, 87)]\n",
      "sorted [(0.808, 51), (0.796, 75), (0.796, 69), (0.796, 63), (0.796, 57), (0.796, 45), (0.792, 87), (0.792, 81), (0.728, 27), (0.724, 39), (0.724, 33)]\n"
     ]
    }
   ],
   "source": [
    "def create_kNN_classifier_vary_k(table):\n",
    "    folds = utils.get_stratified_folds(table)\n",
    "    \n",
    "    \n",
    "    accuracies = []\n",
    "    for k in range(27, 89, 6):\n",
    "        print(\"testing at k=%d\" % k)\n",
    "        predictions, actuals = [], [] \n",
    "        for i, fold in enumerate(folds):\n",
    "            train = [instance for fold in folds[:i] for instance in fold] + [instance for fold in folds[i+1:] for instance in fold]\n",
    "            test, train = utils.normalize_attributes(fold, train)\n",
    "            for test_instance in test:\n",
    "                predictions.append(utils.make_kNN_prediction(test_instance, train, k))\n",
    "                actuals.append(test_instance[-1])\n",
    "        correct = [predictions[i] == actuals[i] for i in range(len(predictions))]\n",
    "        accuracies.append((correct.count(True) / len(correct), k))\n",
    "    \n",
    "    return accuracies\n",
    "\n",
    "accuracies = create_kNN_classifier_vary_k(table)\n",
    "print(\"Accuracies for variable k\\n\", accuracies)\n",
    "accuracies.sort(reverse=True)\n",
    "print(\"sorted\", accuracies)"
   ]
  },
  {
   "cell_type": "code",
   "execution_count": 10,
   "metadata": {},
   "outputs": [
    {
     "name": "stdout",
     "output_type": "stream",
     "text": [
      "testing random attribute set 1 of 20\n",
      "testing random attribute set 2 of 20\n",
      "testing random attribute set 3 of 20\n",
      "testing random attribute set 4 of 20\n",
      "testing random attribute set 5 of 20\n",
      "testing random attribute set 6 of 20\n",
      "testing random attribute set 7 of 20\n",
      "testing random attribute set 8 of 20\n",
      "testing random attribute set 9 of 20\n",
      "testing random attribute set 10 of 20\n",
      "testing random attribute set 11 of 20\n",
      "testing random attribute set 12 of 20\n",
      "testing random attribute set 13 of 20\n",
      "testing random attribute set 14 of 20\n",
      "testing random attribute set 15 of 20\n",
      "testing random attribute set 16 of 20\n",
      "testing random attribute set 17 of 20\n",
      "testing random attribute set 18 of 20\n",
      "testing random attribute set 19 of 20\n",
      "testing random attribute set 20 of 20\n",
      "\n",
      "Best 5 accuracies for variable attribute subset\n",
      " [(0.9, ['ID', 'SEX', 'PAY_4', 'BILL_AMT2', 'BILL_AMT3', 'BILL_AMT5', 'BILL_AMT6', 'PAY_AMT2', 'PAY_AMT4', 'default payment next month']), (0.884, ['LIMIT_BAL', 'SEX', 'AGE', 'PAY_0', 'PAY_3', 'PAY_4', 'BILL_AMT2', 'PAY_AMT2', 'PAY_AMT5', 'default payment next month']), (0.88, ['LIMIT_BAL', 'SEX', 'MARRIAGE', 'PAY_3', 'PAY_4', 'PAY_5', 'BILL_AMT1', 'BILL_AMT2', 'PAY_AMT4', 'default payment next month']), (0.876, ['ID', 'SEX', 'EDUCATION', 'PAY_3', 'PAY_4', 'BILL_AMT4', 'PAY_AMT4', 'PAY_AMT5', 'PAY_AMT6', 'default payment next month']), (0.868, ['SEX', 'EDUCATION', 'PAY_3', 'PAY_4', 'PAY_5', 'PAY_6', 'BILL_AMT6', 'PAY_AMT2', 'PAY_AMT5', 'default payment next month'])]\n",
      "[0, 2, 9, 13, 14, 16, 17, 19, 21, 24]\n"
     ]
    }
   ],
   "source": [
    "def create_kNN_classifier_vary_attributes(table, header, k, iterations=20, F=10):\n",
    "    '''\n",
    "        k: nearest neighbors\n",
    "        iterations: number of random subsets of attributes tested\n",
    "        F: number of attributes per subset\n",
    "    '''\n",
    "    \n",
    "    accuracies = []\n",
    "    for i in range(iterations):\n",
    "        print(\"testing random attribute set\", i+1, \"of\", iterations)\n",
    "        current_table, current_attribs = get_random_attribute_subset(table, header, F)\n",
    "        folds = utils.get_stratified_folds(current_table)\n",
    "        predictions, actuals = [], []\n",
    "        for i, fold in enumerate(folds):\n",
    "            train = [instance for fold in folds[:i] for instance in fold] + [instance for fold in folds[i+1:] for instance in fold]\n",
    "            test, train = utils.normalize_attributes(fold, train)\n",
    "            for test_instance in test:\n",
    "                predictions.append(utils.make_kNN_prediction(test_instance, train, k))\n",
    "                actuals.append(test_instance[-1])\n",
    "        correct = [predictions[i] == actuals[i] for i in range(len(predictions))]\n",
    "        accuracies.append((correct.count(True) / len(correct), current_attribs))\n",
    "    \n",
    "    return accuracies\n",
    "\n",
    "accuracies = create_kNN_classifier_vary_attributes(table, header, accuracies[0][1], 20)\n",
    "    \n",
    "accuracies.sort(reverse=True)\n",
    "print(\"\\nBest 5 accuracies for variable attribute subset\\n\", accuracies[:5])\n",
    "\n",
    "best_feature_set_indices = [header.index(x) for x in accuracies[0][1]]\n",
    "print(best_feature_set_indices)"
   ]
  },
  {
   "cell_type": "code",
   "execution_count": null,
   "metadata": {},
   "outputs": [],
   "source": [
    "def create_kNN_classifier_vary_weights(table, attributes, k): pass"
   ]
  },
  {
   "cell_type": "code",
   "execution_count": null,
   "metadata": {},
   "outputs": [],
   "source": [
    "\n",
    "    \n",
    "\n",
    "    "
   ]
  },
  {
   "cell_type": "code",
   "execution_count": null,
   "metadata": {},
   "outputs": [],
   "source": []
  }
 ],
 "metadata": {
  "kernelspec": {
   "display_name": "Python 3",
   "language": "python",
   "name": "python3"
  },
  "language_info": {
   "codemirror_mode": {
    "name": "ipython",
    "version": 3
   },
   "file_extension": ".py",
   "mimetype": "text/x-python",
   "name": "python",
   "nbconvert_exporter": "python",
   "pygments_lexer": "ipython3",
   "version": "3.6.5"
  }
 },
 "nbformat": 4,
 "nbformat_minor": 2
}
